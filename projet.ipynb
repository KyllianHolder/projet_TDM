{
 "cells": [
  {
   "cell_type": "markdown",
   "metadata": {},
   "source": [
    "# Projet de traitement de données massive\n",
    "\n",
    "## Partie 1\n",
    "\n",
    "### Collecte de données"
   ]
  },
  {
   "cell_type": "markdown",
   "metadata": {},
   "source": [
    "Pour Commencer le projet, j'ai décidé de prendre un dataset depuis kaggle directement puis par la suite mettre en place le telechargement automatique.\n",
    "\n",
    "## Extract informations"
   ]
  },
  {
   "cell_type": "code",
<<<<<<< Updated upstream
   "execution_count": 2,
=======
   "execution_count": null,
>>>>>>> Stashed changes
   "metadata": {},
   "outputs": [],
   "source": [
    "import PIL.Image\n",
    "import os\n",
    "import json\n",
    "from sklearn.cluster import KMeans\n",
    "import numpy\n",
    "from colorthief import ColorThief\n",
<<<<<<< Updated upstream
=======
    "\n",
    "class image_analysis:\n",
    "    def __init__(self, directory):\n",
    "        self.extract_metadata(directory)\n",
    "    def orientation(self, heigh, width):\n",
    "        if heigh > width:\n",
    "            return \"Portrait\"\n",
    "        elif width > heigh:\n",
    "            return \"Paysage\"\n",
    "        else:\n",
    "            return \"Carre\"\n",
    "\n",
    "    def extract_metadata(self,directory_name):\n",
    "        directory = os.fsencode(directory_name)\n",
    "        dataDict = {}\n",
    "        for file in os.listdir(directory):\n",
    "            filename = os.fsdecode(file)\n",
    "            img = PIL.Image.open(directory_name+\"/\"+filename)\n",
    "            exif_data = img._getexif()\n",
    "            color_thief = ColorThief(directory_name+\"/\"+filename)\n",
    "\n",
    "            dataDict[filename] = {\n",
    "                \"Height\": img.height, \n",
    "                \"Width\": img.width, \n",
    "                \"Exif\": str(exif_data), \n",
    "                \"Couleurs dominantes\" : color_thief.get_palette(color_count=5), \n",
    "                \"Orientation\": self.orientation(img.height, img.width)\n",
    "                }\n",
    "\n",
    "        with open('json_data.json', 'w') as outfile:\n",
    "            json.dump(dataDict, outfile)\n",
    "    \n",
>>>>>>> Stashed changes
    "\n",
    "\n",
    "def orientation(heigh, width):\n",
    "    if heigh > width:\n",
    "        return \"Portrait\"\n",
    "    elif width > heigh:\n",
    "        return \"Paysage\"\n",
    "    else:\n",
    "        return \"Carre\"\n",
    "\n",
    "def extract_metadata(directory_name):\n",
    "    directory = os.fsencode(directory_name)\n",
    "    dataDict = {}\n",
    "    for file in os.listdir(directory):\n",
    "        filename = os.fsdecode(file)\n",
<<<<<<< Updated upstream
    "        img = PIL.Image.open(directory_name+\"/\"+filename)\n",
    "        exif_data = img._getexif()\n",
    "        color_thief = ColorThief(directory_name+\"/\"+filename)\n",
    "        \n",
    "        dataDict[filename] = {\n",
    "            \"Height\": img.height, \n",
    "            \"Width\": img.width, \n",
    "            \"Exif\": str(exif_data), \n",
    "            \"Couleurs dominantes\" : color_thief.get_palette(color_count=5), \n",
    "            \"Orientation\": orientation(img.height, img.width)\n",
    "            }\n",
    "\n",
    "    with open('json_data.json', 'w') as outfile:\n",
    "        json.dump(dataDict, outfile)\n",
    "    \n",
    "\n",
    "extract_metadata(\"image_one\")\n"
=======
    "        like = input(\"Entrer Y si vous aimez l'image\"+ filename + \" ou N si vous ne l'aimez pas ou U si vous n'avez pas d'avis\")\n",
    "        like_dict[filename] = {\"like\": like}\n",
    "        \n",
    "\n",
    "    with open('like_file.json', 'w') as outfile:\n",
    "        json.dump(like_dict, outfile)\n",
    "\n",
    "generate_like_file()"
>>>>>>> Stashed changes
   ]
  }
 ],
 "metadata": {
  "interpreter": {
   "hash": "f9f85f796d01129d0dd105a088854619f454435301f6ffec2fea96ecbd9be4ac"
  },
  "kernelspec": {
   "display_name": "Python 3.9.5 64-bit",
   "language": "python",
   "name": "python3"
  },
  "language_info": {
   "codemirror_mode": {
    "name": "ipython",
    "version": 3
   },
   "file_extension": ".py",
   "mimetype": "text/x-python",
   "name": "python",
   "nbconvert_exporter": "python",
   "pygments_lexer": "ipython3",
   "version": "3.9.7"
  },
  "orig_nbformat": 4
 },
 "nbformat": 4,
 "nbformat_minor": 2
}
