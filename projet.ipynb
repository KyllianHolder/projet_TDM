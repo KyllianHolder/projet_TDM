{
 "cells": [
  {
   "cell_type": "markdown",
   "metadata": {},
   "source": [
    "# Projet de traitement de données massive\n",
    "\n",
    "## Partie 1\n",
    "\n",
    "### Collecte de données\n",
    "\n",
    "#### Extract informations\n",
    "\n",
    "Cloner le dataset depuis git"
   ]
  },
  {
   "cell_type": "code",
   "execution_count": 1,
   "metadata": {},
   "outputs": [],
   "source": [
    "import git\n",
    "# Check out via HTTPS\n",
    "#git.Repo.clone_from('https://github.com/Lseig/Images_TDM.git', 'Images_git')"
   ]
  },
  {
   "cell_type": "markdown",
   "metadata": {},
   "source": [
    "Extraction des informations des images"
   ]
  },
  {
   "cell_type": "code",
   "execution_count": 1,
   "metadata": {},
   "outputs": [],
   "source": [
    "import PIL.Image\n",
    "import os\n",
    "import json\n",
    "from sklearn.cluster import KMeans\n",
    "import numpy\n",
    "from colorthief import ColorThief\n",
    "import time\n",
    "import git\n",
    "\n",
    "from scipy.spatial import KDTree\n",
    "from webcolors import hex_to_rgb\n",
    "from webcolors import CSS3_HEX_TO_NAMES\n",
    "\n",
    "\n",
    "class image_analysis:\n",
    "    def __init__(self, directory):\n",
    "        self.extract_metadata(directory)\n",
    "\n",
    "    def orientation(self, heigh, width):\n",
    "        if heigh > width:\n",
    "            return \"Portrait\"\n",
    "        elif width > heigh:\n",
    "            return \"Paysage\"\n",
    "        else:\n",
    "            return \"Carre\"\n",
    "\n",
    "    def convert_rgb_to_names(self, rgb_tuple):\n",
    "        # a dictionary of all the hex and their respective names in css3\n",
    "        css3_db = CSS3_HEX_TO_NAMES\n",
    "        names = []\n",
    "        rgb_values = []\n",
    "        for color_hex, color_name in css3_db.items():\n",
    "            # Ajoute à la liste names les noms des couleurs\n",
    "            names.append(color_name)\n",
    "            rgb_values.append(hex_to_rgb(color_hex))\n",
    "\n",
    "        kdt_db = KDTree(rgb_values)\n",
    "        distance, index = kdt_db.query(rgb_tuple)\n",
    "        return f'{names[index]}'\n",
    "\n",
    "    def extract_metadata(self, directory_name):\n",
    "        directory = os.fsencode(directory_name)\n",
    "        dataDict = {}\n",
    "        for file in os.listdir(directory):\n",
    "            filename = os.fsdecode(file)\n",
    "            img = PIL.Image.open(directory_name+\"/\"+filename)\n",
    "            exif_data = img._getexif()\n",
    "            color_thief = ColorThief(directory_name+\"/\"+filename)\n",
    "            tabcolor = color_thief.get_palette(color_count=5)\n",
    "            dataDict[filename] = {\n",
    "                \"Height\": img.height,\n",
    "                \"Width\": img.width,\n",
    "                \"Exif\": str(exif_data),\n",
    "                \"Couleur dominante 1\": self.convert_rgb_to_names(tabcolor[0]),\n",
    "                \"Couleur dominante 2\": self.convert_rgb_to_names(tabcolor[1]),\n",
    "                \"Couleur dominante 3\": self.convert_rgb_to_names(tabcolor[2]),\n",
    "                \"Couleur dominante 4\": self.convert_rgb_to_names(tabcolor[3]),\n",
    "                \"Couleur dominante 5\": self.convert_rgb_to_names(tabcolor[4]),\n",
    "                \"Orientation\": self.orientation(img.height, img.width),\n",
    "            }\n",
    "\n",
    "        with open('json_data.json', 'w') as outfile:\n",
    "            json.dump(dataDict, outfile)\n"
   ]
  },
  {
   "cell_type": "code",
   "execution_count": null,
   "metadata": {},
   "outputs": [],
   "source": [
    "class algo_classification:\n",
    "    def __init__(self,training_file , image_folder):\n",
    "        self.training_file = training_file\n",
    "        t = image_analysis(image_folder)\n",
    "        self.concatenateLikesAnalysis()\n",
    "    \n",
    "    def concatenateLikesAnalysis(self):\n",
    "        like = []\n",
    "        dislike = []\n",
    "        analysis_file = open('json_data.json', 'r')\n",
    "        aDict = json.load(analysis_file)\n",
    "        analysis_file.close()\n",
    "\n",
    "        training_fileA = open(self.training_file)\n",
    "        likeDict = json.load(training_fileA)\n",
    "        training_fileA.close()\n",
    "\n",
    "        for x in aDict:\n",
    "            for y in likeDict:\n",
    "                if x == y:   \n",
    "                    if likeDict[y][\"like\"] == \"y\":\n",
    "                        like.append(aDict[x])\n",
    "                    elif likeDict[y][\"like\"] == \"n\":\n",
    "                        dislike.append(aDict[x])   \n",
    "\n",
    "test = algo_classification(\"training_file.json\", \"image_one\")\n"
   ]
  },
  {
   "cell_type": "code",
   "execution_count": null,
   "metadata": {},
   "outputs": [],
   "source": [
    "def generate_training_file():\n",
    "    like_dict = {}\n",
    "    \n",
    "    directory = os.fsencode(\"image_like\")\n",
    "    for file in os.listdir(directory):\n",
    "        filename = os.fsdecode(file)\n",
    "        \n",
    "        like = input(\"Entrer Y si vous aimez l'image\"+ filename + \" ou N si vous ne l'aimez pas ou U si vous n'avez pas d'avis\")\n",
    "        like_dict[filename] = {\"like\": like}\n",
    "    with open('training_file.json', 'w') as outfile:\n",
    "        json.dump(like_dict, outfile)\n",
    "\n",
    "\n",
    "generate_training_file()"
   ]
  }
 ],
 "metadata": {
  "interpreter": {
   "hash": "f9f85f796d01129d0dd105a088854619f454435301f6ffec2fea96ecbd9be4ac"
  },
  "kernelspec": {
   "display_name": "Python 3 (ipykernel)",
   "language": "python",
   "name": "python3"
  },
  "language_info": {
   "codemirror_mode": {
    "name": "ipython",
    "version": 3
   },
   "file_extension": ".py",
   "mimetype": "text/x-python",
   "name": "python",
   "nbconvert_exporter": "python",
   "pygments_lexer": "ipython3",
   "version": "3.10.0"
  },
  "orig_nbformat": 4
 },
 "nbformat": 4,
 "nbformat_minor": 2
}
