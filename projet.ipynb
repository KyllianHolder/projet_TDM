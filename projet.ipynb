{
 "cells": [
  {
   "cell_type": "markdown",
   "metadata": {},
   "source": [
    "# Projet de traitement de données massive\n",
    "\n",
    "## Partie 1\n",
    "\n",
    "### Collecte de données"
   ]
  },
  {
   "cell_type": "markdown",
   "metadata": {},
   "source": [
    "Pour Commencer le projet, j'ai décidé de prendre un dataset depuis kaggle directement puis par la suite mettre en place le telechargement automatique.\n",
    "\n",
    "## Extract informations"
   ]
  },
  {
   "cell_type": "code",
   "execution_count": 7,
   "metadata": {},
   "outputs": [
    {
     "name": "stdout",
     "output_type": "stream",
     "text": [
      "(162, 112, 119)\n",
      "162\n",
      "(60, 28, 63)\n",
      "60\n",
      "(164, 115, 154)\n",
      "164\n"
     ]
    }
   ],
   "source": [
    "import PIL.Image\n",
    "import os\n",
    "import json\n",
    "from sklearn.cluster import KMeans\n",
    "import numpy\n",
    "from colorthief import ColorThief\n",
    "from scipy.spatial import KDTree\n",
    "from webcolors import hex_to_rgb\n",
    "from webcolors import CSS3_HEX_TO_NAMES\n",
    "\n",
    "\n",
    "def orientation(heigh, width):\n",
    "    if heigh > width:\n",
    "        return \"Portrait\"\n",
    "    elif width > heigh:\n",
    "        return \"Paysage\"\n",
    "    else:\n",
    "        return \"Carre\"\n",
    "\n",
    "def extract_metadata(directory_name):\n",
    "    directory = os.fsencode(directory_name)\n",
    "    dataDict = {}\n",
    "    for file in os.listdir(directory):\n",
    "        filename = os.fsdecode(file)\n",
    "        img = PIL.Image.open(directory_name+\"/\"+filename)\n",
    "        exif_data = img._getexif()\n",
    "        color_thief = ColorThief(directory_name+\"/\"+filename)\n",
    "        dom = color_thief.get_color(quality=1)\n",
    "        print(dom)\n",
    "        print(dom[0])\n",
    "        dataDict[filename] = {\n",
    "            \"Height\": img.height, \n",
    "            \"Width\": img.width, \n",
    "            \"Exif\": str(exif_data), \n",
    "            \"Couleurs dominantes\" : color_thief.get_palette(color_count=5), \n",
    "            \"Orientation\": orientation(img.height, img.width),\n",
    "            \"Color name\": convert_rgb_to_names(dom)\n",
    "            }\n",
    "        \n",
    "\n",
    "    with open('json_data.json', 'w') as outfile:\n",
    "        json.dump(dataDict, outfile)\n",
    "    \n",
    "\n",
    "def convert_rgb_to_names(rgb_tuple):\n",
    "    \n",
    "    # a dictionary of all the hex and their respective names in css3\n",
    "    css3_db = CSS3_HEX_TO_NAMES\n",
    "    names = []\n",
    "    rgb_values = []\n",
    "    for color_hex, color_name in css3_db.items():\n",
    "        names.append(color_name)\n",
    "        rgb_values.append(hex_to_rgb(color_hex))\n",
    "    \n",
    "    kdt_db = KDTree(rgb_values)\n",
    "    distance, index = kdt_db.query(rgb_tuple)\n",
    "    return f'closest match: {names[index]}'\n",
    "\n",
    "\n",
    "\n",
    "extract_metadata(\"images_test\")\n"
   ]
  }
 ],
 "metadata": {
  "interpreter": {
   "hash": "f9f85f796d01129d0dd105a088854619f454435301f6ffec2fea96ecbd9be4ac"
  },
  "kernelspec": {
   "display_name": "Python 3.9.5 64-bit",
   "language": "python",
   "name": "python3"
  },
  "language_info": {
   "codemirror_mode": {
    "name": "ipython",
    "version": 3
   },
   "file_extension": ".py",
   "mimetype": "text/x-python",
   "name": "python",
   "nbconvert_exporter": "python",
   "pygments_lexer": "ipython3",
   "version": "3.10.2"
  },
  "orig_nbformat": 4
 },
 "nbformat": 4,
 "nbformat_minor": 2
}
