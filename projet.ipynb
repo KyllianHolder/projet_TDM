{
 "cells": [
  {
   "cell_type": "markdown",
   "metadata": {},
   "source": [
    "# Projet de traitement de données massive\n",
    "\n",
    "## Partie 1\n",
    "\n",
    "### Collecte de données"
   ]
  },
  {
   "cell_type": "markdown",
   "metadata": {},
   "source": [
    "Pour Commencer le projet, j'ai décidé de prendre un dataset depuis kaggle directement puis par la suite mettre en place le telechargement automatique.\n",
    "\n",
    "## Extract informations"
   ]
  },
  {
   "cell_type": "code",
   "execution_count": 15,
   "metadata": {},
   "outputs": [],
   "source": [
    "import PIL.Image\n",
    "import os\n",
    "import json\n",
    "\n",
    "\n",
    "def extract_metadata():\n",
    "    directory = os.fsencode(\"images\")\n",
    "    dataDict = {}\n",
    "    for file in os.listdir(directory):\n",
    "        filename = os.fsdecode(file)\n",
    "        img = PIL.Image.open(\"images/\"+filename)\n",
    "        exif_data = img._getexif()\n",
    "        dataDict[filename] = {\"Height\": img.height, \"Width\": img.width, \"Exif\": str(exif_data)}\n",
    "\n",
    "    with open('json_data.json', 'w') as outfile:\n",
    "        json.dump(dataDict, outfile)\n",
    "    \n",
    "\n",
    "extract_metadata()\n"
   ]
  }
 ],
 "metadata": {
  "interpreter": {
   "hash": "f9f85f796d01129d0dd105a088854619f454435301f6ffec2fea96ecbd9be4ac"
  },
  "kernelspec": {
   "display_name": "Python 3.9.5 64-bit",
   "language": "python",
   "name": "python3"
  },
  "language_info": {
   "codemirror_mode": {
    "name": "ipython",
    "version": 3
   },
   "file_extension": ".py",
   "mimetype": "text/x-python",
   "name": "python",
   "nbconvert_exporter": "python",
   "pygments_lexer": "ipython3",
   "version": "3.9.7"
  },
  "orig_nbformat": 4
 },
 "nbformat": 4,
 "nbformat_minor": 2
}
