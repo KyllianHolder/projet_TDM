{
 "cells": [
  {
   "cell_type": "markdown",
   "metadata": {},
   "source": [
    "# Projet de traitement de données massive\n",
    "\n",
    "## Partie 1\n",
    "\n",
    "### Collecte de données"
   ]
  },
  {
   "cell_type": "markdown",
   "metadata": {},
   "source": [
    "Pour Commencer le projet, j'ai décidé de prendre un dataset depuis kaggle directement puis par la suite mettre en place le telechargement automatique.\n",
    "\n",
    "## Extract informations"
   ]
  },
  {
   "cell_type": "code",
   "execution_count": 2,
   "metadata": {},
   "outputs": [],
   "source": [
    "import PIL.Image\n",
    "import os\n",
    "import json\n",
    "from sklearn.cluster import KMeans\n",
    "import numpy\n",
    "from colorthief import ColorThief\n",
    "import time\n",
    "import git\n",
    "\n",
    "# Check out via HTTPS\n",
    "git.Repo.clone_from('https://github.com/Lseig/Images_TDM.git', 'Images_git')\n",
    "\n",
    "def orientation(heigh, width):\n",
    "    if heigh > width:\n",
    "        return \"Portrait\"\n",
    "    elif width > heigh:\n",
    "        return \"Paysage\"\n",
    "    else:\n",
    "        return \"Carre\"\n",
    "\n",
    "def extract_metadata(directory_name):\n",
    "    directory = os.fsencode(directory_name)\n",
    "    dataDict = {}\n",
    "    for file in os.listdir(directory):\n",
    "        filename = os.fsdecode(file)\n",
    "        img = PIL.Image.open(directory_name+\"/\"+filename)\n",
    "        exif_data = img._getexif()\n",
    "        color_thief = ColorThief(directory_name+\"/\"+filename)\n",
    "        \n",
    "        dataDict[filename] = {\n",
    "            \"Height\": img.height, \n",
    "            \"Width\": img.width, \n",
    "            \"Exif\": str(exif_data), \n",
    "            \"Couleurs dominantes\" : color_thief.get_palette(color_count=5), \n",
    "            \"Orientation\": orientation(img.height, img.width)\n",
    "            }\n",
    "\n",
    "    with open('json_data.json', 'w') as outfile:\n",
    "        json.dump(dataDict, outfile)\n",
    "    \n",
    "\n",
    "extract_metadata(\"image_one\")\n"
   ]
  }
 ],
 "metadata": {
  "interpreter": {
   "hash": "f9f85f796d01129d0dd105a088854619f454435301f6ffec2fea96ecbd9be4ac"
  },
  "kernelspec": {
   "display_name": "Python 3 (ipykernel)",
   "language": "python",
   "name": "python3"
  },
  "language_info": {
   "codemirror_mode": {
    "name": "ipython",
    "version": 3
   },
   "file_extension": ".py",
   "mimetype": "text/x-python",
   "name": "python",
   "nbconvert_exporter": "python",
   "pygments_lexer": "ipython3",
   "version": "3.8.10"
  }
 },
 "nbformat": 4,
 "nbformat_minor": 2
}
